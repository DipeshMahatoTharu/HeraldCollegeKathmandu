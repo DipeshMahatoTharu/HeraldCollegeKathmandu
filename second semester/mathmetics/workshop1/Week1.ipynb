{
  "cells": [
    {
      "cell_type": "markdown",
      "metadata": {
        "colab_type": "text",
        "id": "view-in-github"
      },
      "source": [
        "<a href=\"https://colab.research.google.com/github/DipeshMahato4444/herald-college-kathmandu/blob/main/Week1.ipynb\" target=\"_parent\"><img src=\"https://colab.research.google.com/assets/colab-badge.svg\" alt=\"Open In Colab\"/></a>"
      ]
    },
    {
      "cell_type": "code",
      "execution_count": 2,
      "metadata": {
        "id": "aCd8fkAqYT7D"
      },
      "outputs": [],
      "source": [
        "#Name:Dipesh Mahato Tharu\n",
        "#University ID:2408059\n"
      ]
    },
    {
      "cell_type": "code",
      "execution_count": 5,
      "metadata": {
        "id": "gmOfpvhDabLx"
      },
      "outputs": [],
      "source": [
        "#Question no 1\n",
        "# Write a function fib (n) that prompts the number of terms “n” from the user and displays first “n” terms of Fibonacci sequence iteratively.\n"
      ]
    },
    {
      "cell_type": "code",
      "execution_count": 7,
      "metadata": {
        "colab": {
          "base_uri": "https://localhost:8080/"
        },
        "id": "bi6vYjgVat9b",
        "outputId": "6734e5ef-af41-4ab7-8ae1-338bebdd9d96"
      },
      "outputs": [
        {
          "name": "stdout",
          "output_type": "stream",
          "text": [
            "Enter the number of terms for Fibonacci sequence: 8\n",
            "Fibonacci sequence: [0, 1, 1, 2, 3, 5, 8, 13]\n"
          ]
        }
      ],
      "source": [
        "# Exercise 1a: Fibonacci sequence iteratively\n",
        "def fib(n):\n",
        "    fib_sequence = []\n",
        "    a, b = 0, 1\n",
        "    for _ in range(n):\n",
        "        fib_sequence.append(a)\n",
        "        a, b = b, a + b\n",
        "    return fib_sequence\n",
        "\n",
        "num_terms = int(input(\"Enter the number of terms for Fibonacci sequence: \"))\n",
        "fibonacci_sequence = fib(num_terms)\n",
        "print(\"Fibonacci sequence:\", fibonacci_sequence)\n"
      ]
    },
    {
      "cell_type": "code",
      "execution_count": 8,
      "metadata": {
        "id": "Fqb35HJsb57J"
      },
      "outputs": [],
      "source": [
        "#Question no 2.\n",
        "# Write a function myPow(x, n) that returns 𝑥 𝑛, where and n is a non-negative integer. Do not use the ** operator or the math.pow function - use one while loop"
      ]
    },
    {
      "cell_type": "code",
      "execution_count": 10,
      "metadata": {
        "colab": {
          "base_uri": "https://localhost:8080/"
        },
        "id": "D9R6nLO1cIyt",
        "outputId": "bd77fbf3-cab4-4678-917a-a01546db5265"
      },
      "outputs": [
        {
          "name": "stdout",
          "output_type": "stream",
          "text": [
            "Enter the base number: 3\n",
            "Enter the exponent (a non-negative integer): 4\n",
            "3.0 raised to the power of 4 is: 81.0\n"
          ]
        }
      ],
      "source": [
        "# Exercise 1b: Power function without using ** operator or math.pow\n",
        "def myPow(x, n):\n",
        "    result = 1\n",
        "    while n > 0:\n",
        "        result *= x\n",
        "        n -= 1\n",
        "    return result\n",
        "\n",
        "\n",
        "base = float(input(\"Enter the base number: \"))\n",
        "exponent = int(input(\"Enter the exponent (a non-negative integer): \"))\n",
        "power_result = myPow(base, exponent)\n",
        "print(f\"{base} raised to the power of {exponent} is: {power_result}\")\n"
      ]
    },
    {
      "cell_type": "code",
      "execution_count": 12,
      "metadata": {
        "id": "H0CbNHfAcf2H"
      },
      "outputs": [],
      "source": [
        "# Write a function SumDigits(n) that displays the sum of digits of “n”. Hint: SumDigits(234) will be 2+3+4=9\n"
      ]
    },
    {
      "cell_type": "code",
      "execution_count": null,
      "metadata": {
        "colab": {
          "base_uri": "https://localhost:8080/"
        },
        "id": "jshlBq9acrAM",
        "outputId": "1becc75d-fec0-4371-ced2-60c6bf8f8e70"
      },
      "outputs": [
        {
          "name": "stdout",
          "output_type": "stream",
          "text": [
            "Enter a number to find the sum of its digits: 12\n",
            "Sum of digits: 3\n"
          ]
        }
      ],
      "source": [
        "# Exercise 1c: Sum of digits of a number\n",
        "def SumDigits(n):\n",
        "    total_sum = 0\n",
        "    for digit in str(n):\n",
        "        total_sum += int(digit)\n",
        "    return total_sum\n",
        "\n",
        "\n",
        "number = int(input(\"Enter a number to find the sum of its digits: \"))\n",
        "print(\"Sum of digits:\", SumDigits(number))\n"
      ]
    },
    {
      "cell_type": "code",
      "execution_count": 15,
      "metadata": {
        "id": "LNlZdqvUc4eL"
      },
      "outputs": [],
      "source": [
        "# Quesiton no D : . Write a function squaredSum that returns the sum of the squares of an array/list of  integers such that squaredSum([2,3,4]) gives 29. Write your solution in pure Python to show the logic in your solution, do not use any library functions."
      ]
    },
    {
      "cell_type": "code",
      "execution_count": 20,
      "metadata": {
        "colab": {
          "base_uri": "https://localhost:8080/"
        },
        "id": "-bdKcw_EdIDq",
        "outputId": "31684050-710a-4319-aa77-da51951801b2"
      },
      "outputs": [
        {
          "name": "stdout",
          "output_type": "stream",
          "text": [
            "Enter numbers separated by space: 2 3 4\n",
            "Sum of squares of elements in the list: 29\n"
          ]
        }
      ],
      "source": [
        "# Exercise 1d: Sum of squares of elements in a list\n",
        "def squaredSum(arr):\n",
        "    total_sum = 0\n",
        "    for num in arr:\n",
        "        total_sum += num * num\n",
        "    return total_sum\n",
        "\n",
        "numbers = [int(x) for x in input(\"Enter numbers separated by space: \").split()]\n",
        "print(\"Sum of squares of elements in the list:\", squaredSum(numbers))\n"
      ]
    },
    {
      "cell_type": "code",
      "execution_count": 18,
      "metadata": {
        "id": "8hKt7OhTdiUM"
      },
      "outputs": [],
      "source": [
        "# Write a function called sumDigits that is given an integer num and returns the sum of the digits of num. Eg. sumDigits(6) gives 21. Do not use any library functions (if  there is one)"
      ]
    },
    {
      "cell_type": "code",
      "execution_count": 19,
      "metadata": {
        "colab": {
          "base_uri": "https://localhost:8080/"
        },
        "id": "Q0Zi6PMCdo1D",
        "outputId": "99cc8cca-aad4-4381-d980-cdd6d4ea1623"
      },
      "outputs": [
        {
          "name": "stdout",
          "output_type": "stream",
          "text": [
            "Enter a number to find the sum of its digits: 13\n",
            "Sum of digits: 4\n"
          ]
        }
      ],
      "source": [
        "# Exercise 1e: Sum of digits of a number without using library functions\n",
        "def sumDigits(num):\n",
        "    total_sum = 0\n",
        "    while num > 0:\n",
        "        total_sum += num % 10\n",
        "        num //= 10\n",
        "    return total_sum\n",
        "\n",
        "number = int(input(\"Enter a number to find the sum of its digits: \"))\n",
        "print(\"Sum of digits:\", sumDigits(number))\n"
      ]
    },
    {
      "cell_type": "code",
      "execution_count": null,
      "metadata": {
        "id": "MSfiDz0tdv92"
      },
      "outputs": [],
      "source": []
    }
  ],
  "metadata": {
    "colab": {
      "authorship_tag": "ABX9TyMGUc5SBg4YT7TIEYvPf/eo",
      "include_colab_link": true,
      "provenance": []
    },
    "kernelspec": {
      "display_name": "Python 3",
      "name": "python3"
    },
    "language_info": {
      "name": "python",
      "version": "3.12.2"
    }
  },
  "nbformat": 4,
  "nbformat_minor": 0
}
