{
  "cells": [
    {
      "cell_type": "markdown",
      "metadata": {
        "id": "GT3gLXblf-2m"
      },
      "source": [
        "1.\tWrite a Python function that takes a list and returns a new list with distinct elements from the first list.\n",
        "Sample List : [1,2,3,3,3,3,4,5]\n",
        "Unique List : [1, 2, 3, 4, 5]\n"
      ]
    },
    {
      "cell_type": "code",
      "execution_count": 2,
      "metadata": {
        "colab": {
          "base_uri": "https://localhost:8080/"
        },
        "id": "EkJlDbIVgA4z",
        "outputId": "b97d6b68-dbdf-4aa6-9838-f9520846fbd7"
      },
      "outputs": [
        {
          "name": "stdout",
          "output_type": "stream",
          "text": [
            "Unique List (Set Method): [1, 2, 3, 4, 5]\n"
          ]
        }
      ],
      "source": [
        "#University_id=2408059\n",
        "#Student_name=Dipesh Mahato Tharu\n",
        "\n",
        "def unique(list1):\n",
        "    list_set = set(list1)\n",
        "    unique_list = list(list_set)\n",
        "    return unique_list\n",
        "\n",
        "sample_list2 = [1, 2, 3, 3, 3, 3, 4, 5]\n",
        "unique_result2 = set(sample_list2)\n",
        "unique_list2 = list(unique_result2)\n",
        "print(\"Unique List (Set Method):\", unique_list2)\n",
        "\n"
      ]
    },
    {
      "cell_type": "markdown",
      "metadata": {
        "id": "_haJDw9HiOqn"
      },
      "source": []
    },
    {
      "cell_type": "markdown",
      "metadata": {
        "id": "-CQ5SNk0iTex"
      },
      "source": [
        "2.\tWrite a Python function that takes a number as a parameter and checks whether the number is prime or not.\n"
      ]
    },
    {
      "cell_type": "code",
      "execution_count": 3,
      "metadata": {
        "colab": {
          "base_uri": "https://localhost:8080/"
        },
        "id": "fJfcJ4C9iXqZ",
        "outputId": "12c32b87-cf8b-4f87-95fb-1071da754114"
      },
      "outputs": [
        {
          "name": "stdout",
          "output_type": "stream",
          "text": [
            "12 is not prime number\n"
          ]
        }
      ],
      "source": [
        "#University_id=2408059\n",
        "#Student_name=Dipesh Mahato Tharu\n",
        "\n",
        "def prime(number):\n",
        "  if number > 1:\n",
        "    for i in range (2, number):\n",
        "      if (number%i) == 0:\n",
        "        return False\n",
        "    return True\n",
        "  else:\n",
        "    return False\n",
        "\n",
        "num = int(input(\"enter the nummer: \"))\n",
        "if prime(num):\n",
        "  print(f\"{num} is prime number\")\n",
        "else:\n",
        "  print(f\"{num} is not prime number\")\n",
        "\n"
      ]
    },
    {
      "cell_type": "markdown",
      "metadata": {
        "id": "Pfidg7M4pHFV"
      },
      "source": [
        "3.\tWrite a program to print twin primes less than 1000. If two consecutive odd numbers are both prime then they are known as twin primes."
      ]
    },
    {
      "cell_type": "code",
      "execution_count": null,
      "metadata": {
        "colab": {
          "base_uri": "https://localhost:8080/"
        },
        "id": "RiZwUgb1pOnK",
        "outputId": "74efa925-209d-422e-86ae-e0f06a6b23b5"
      },
      "outputs": [
        {
          "name": "stdout",
          "output_type": "stream",
          "text": [
            "[(3, 5), (5, 7), (11, 13), (17, 19), (29, 31), (41, 43), (59, 61), (71, 73), (101, 103), (107, 109), (137, 139), (149, 151), (179, 181), (191, 193), (197, 199), (227, 229), (239, 241), (269, 271), (281, 283), (311, 313), (347, 349), (419, 421), (431, 433), (461, 463), (521, 523), (569, 571), (599, 601), (617, 619), (641, 643), (659, 661), (809, 811), (821, 823), (827, 829), (857, 859), (881, 883)]\n"
          ]
        }
      ],
      "source": [
        "#University_id=2408059\n",
        "#Student_name=Dipesh Mahato Tharu\n",
        "def prime(num):\n",
        "  if num == 0:\n",
        "    return False\n",
        "  elif num == 1:\n",
        "    return False\n",
        "  for i in range(2, num):\n",
        "    if num%i == 0:\n",
        "      return False\n",
        "  return True\n",
        "\n",
        "def twin_primes(limit):\n",
        "  count=[]\n",
        "  for i in range(1,limit):\n",
        "    if prime(i) and prime(i+2):\n",
        "      count.append((i, i+2))\n",
        "  return count\n",
        "\n",
        "limit = 1000\n",
        "result = twin_primes(limit)\n",
        "print(result)\n"
      ]
    },
    {
      "cell_type": "markdown",
      "metadata": {
        "id": "JfHhEjePrrh0"
      },
      "source": []
    },
    {
      "cell_type": "markdown",
      "metadata": {
        "id": "LHa_JjGsrxB5"
      },
      "source": [
        "4.\tA positive integer is called a perfect number if it is equal to the sum of all of its divisors, including 1 but excluding the number itself. For example, 6 = 1 + 2 + 3. Write a function sumOfDivisors that takes a positive integer n and returns the sum of all its divisors (excluding n)."
      ]
    },
    {
      "cell_type": "code",
      "execution_count": null,
      "metadata": {
        "colab": {
          "base_uri": "https://localhost:8080/"
        },
        "id": "4W19xCCnryfi",
        "outputId": "96ebf969-d9cb-451a-b575-876af07b6227"
      },
      "outputs": [
        {
          "name": "stdout",
          "output_type": "stream",
          "text": [
            "Enter the number: 9\n",
            "The sum of dividors for 9 is 4\n"
          ]
        }
      ],
      "source": [
        "#University_id=2408059\n",
        "#Student_name=Dipesh Mahato Tharu\n",
        "\n",
        "def sumOfDivisors(n):\n",
        "  div = 0\n",
        "  for i in range(1,n):\n",
        "    if n%i==0:\n",
        "      div += i\n",
        "  return div\n",
        "n = int(input(\"Enter the number: \"))\n",
        "result = sumOfDivisors(n)\n",
        "print(f\"The sum of dividors for {n} is {result}\")\n"
      ]
    },
    {
      "cell_type": "markdown",
      "metadata": {
        "id": "pd2vI190trOX"
      },
      "source": [
        "5. The smallest perfect number is 6. Write a program that finds and prints out the next perfect number. Hint:\n",
        "You should be able your sumOfDiviors function from your solution to previous question."
      ]
    },
    {
      "cell_type": "code",
      "execution_count": null,
      "metadata": {
        "colab": {
          "base_uri": "https://localhost:8080/"
        },
        "id": "BwxyP7NctvMh",
        "outputId": "e4b14275-6b3d-40a7-943c-9b21540751ca"
      },
      "outputs": [
        {
          "name": "stdout",
          "output_type": "stream",
          "text": [
            "The next perfect number is: 28\n"
          ]
        }
      ],
      "source": [
        "#University_id=2408059\n",
        "#Student_name=Dipesh Mahato Tharu\n",
        "\n",
        "def next_perfect_number(n0):\n",
        "  n = n0 + 1\n",
        "  while True:\n",
        "    if sumOfDivisors(n) == n:\n",
        "      return n\n",
        "    n += 1\n",
        "next_num = next_perfect_number(6)\n",
        "print(f\"The next perfect number is: {next_num}\")\n",
        "\n",
        "\n"
      ]
    },
    {
      "cell_type": "code",
      "execution_count": null,
      "metadata": {},
      "outputs": [],
      "source": [
        "\n",
        "\n",
        "#University_id=2408059\n",
        "#Student_name=Dipesh Mahato Tharu"
      ]
    },
    {
      "cell_type": "code",
      "execution_count": null,
      "metadata": {
        "colab": {
          "base_uri": "https://localhost:8080/"
        },
        "id": "y2b8cauUyHSY",
        "outputId": "e17a6922-5d64-44a3-fdad-353e774fe233"
      },
      "outputs": [
        {
          "name": "stdout",
          "output_type": "stream",
          "text": [
            "nepal -> ktm\n",
            "india -> delhi\n",
            "china -> beijing\n",
            "{'nepal': 'ktm', 'india': 'delhi', 'china': 'beijing'}\n"
          ]
        }
      ],
      "source": [
        "#using kwarks(**)\n",
        "def capital(**kwargs):\n",
        "  for (key,values) in kwargs.items():\n",
        "    print(key, \"->\", values)\n",
        "  print(kwargs)\n",
        "\n",
        "capital(nepal=\"ktm\",india=\"delhi\",china=\"beijing\")"
      ]
    },
    {
      "cell_type": "markdown",
      "metadata": {
        "id": "QQw8n76OzLHs"
      },
      "source": [
        "\n",
        " 6.\tWrite the python program to find the mean median from the following list:\n",
        "Marks = [20, 30, 35, 55, 70, 80, 90] Do not use the library function if there is one.\n"
      ]
    },
    {
      "cell_type": "code",
      "execution_count": null,
      "metadata": {
        "id": "saeLlKmbwGoj"
      },
      "outputs": [],
      "source": [
        "#University_id=2408059\n",
        "#Student_name=Dipesh Mahato Tharu\n"
      ]
    },
    {
      "cell_type": "markdown",
      "metadata": {
        "id": "PZvIc2hHwH86"
      },
      "source": [
        "7.\tWrite a function that converts a decimal number to binary number."
      ]
    },
    {
      "cell_type": "code",
      "execution_count": null,
      "metadata": {
        "colab": {
          "base_uri": "https://localhost:8080/"
        },
        "id": "b0lXJqIiwSKk",
        "outputId": "47e3c90e-1977-417b-fc32-bb4863ee1406"
      },
      "outputs": [
        {
          "name": "stdout",
          "output_type": "stream",
          "text": [
            "Enter the decimal number: 34\n",
            "The binary reprsentation of 34 is: 100010\n"
          ]
        }
      ],
      "source": [
        "#University_id=2408059\n",
        "#Student_name=Dipesh Mahato Tharu\n",
        "def decimal_to_binary(decimal_number):\n",
        "  if decimal_number == 0:\n",
        "    return \"0\"\n",
        "\n",
        "  binary_result = \"\"\n",
        "  while decimal_number > 0:\n",
        "    binary_result = str(decimal_number%2)+binary_result\n",
        "    decimal_number //=2\n",
        "\n",
        "  return binary_result\n",
        "n = int(input(\"Enter the decimal number: \"))\n",
        "binary_result = decimal_to_binary(n)\n",
        "print(f\"The binary reprsentation of {n} is: {binary_result}\")\n",
        "\n"
      ]
    },
    {
      "cell_type": "markdown",
      "metadata": {
        "id": "VWwCisP2xSrQ"
      },
      "source": [
        "8.\tWrite a function prodDigits() that inputs a number and returns the product of digits of that number.\n"
      ]
    },
    {
      "cell_type": "code",
      "execution_count": null,
      "metadata": {
        "colab": {
          "base_uri": "https://localhost:8080/"
        },
        "id": "0gf60-clxWvc",
        "outputId": "76d280b8-d43f-4e49-b009-d3ef981ddb64"
      },
      "outputs": [
        {
          "name": "stdout",
          "output_type": "stream",
          "text": [
            "enter a number: 321\n",
            "The products of the digits of 321 is: 6\n"
          ]
        }
      ],
      "source": [
        "#University_id=2408059\n",
        "#Student_name=Dipesh Mahato Tharu\n",
        "def prodDigits(number):\n",
        "  product = 1\n",
        "  while number > 0:\n",
        "    product *= number%10\n",
        "    number //= 10\n",
        "  return product\n",
        "n = int(input(\"enter a number: \"))\n",
        "result=prodDigits(n)\n",
        "print(f\"The products of the digits of {n} is: {result}\")"
      ]
    },
    {
      "cell_type": "code",
      "execution_count": null,
      "metadata": {
        "colab": {
          "base_uri": "https://localhost:8080/"
        },
        "id": "LSAKQZ1jxDCr",
        "outputId": "c32d4e87-c438-4512-894a-6d534cacd558"
      },
      "outputs": [
        {
          "name": "stdout",
          "output_type": "stream",
          "text": [
            "(1, 2, 3, 4, 5, 6, 7, 8)\n"
          ]
        },
        {
          "data": {
            "text/plain": [
              "36"
            ]
          },
          "execution_count": 13,
          "metadata": {},
          "output_type": "execute_result"
        }
      ],
      "source": [
        "#using args (*)\n",
        "def sum(*args):\n",
        "  count = 0\n",
        "  for i in args:\n",
        "    count +=i\n",
        "  print(args)\n",
        "  return count\n",
        "\n",
        "sum(1,2,3,4,5,6,7,8)\n"
      ]
    }
  ],
  "metadata": {
    "colab": {
      "provenance": []
    },
    "kernelspec": {
      "display_name": "Python 3",
      "name": "python3"
    },
    "language_info": {
      "codemirror_mode": {
        "name": "ipython",
        "version": 3
      },
      "file_extension": ".py",
      "mimetype": "text/x-python",
      "name": "python",
      "nbconvert_exporter": "python",
      "pygments_lexer": "ipython3",
      "version": "3.12.2"
    }
  },
  "nbformat": 4,
  "nbformat_minor": 0
}
